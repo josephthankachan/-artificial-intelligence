{
 "cells": [
  {
   "cell_type": "code",
   "execution_count": 1,
   "metadata": {},
   "outputs": [
    {
     "ename": "FileNotFoundError",
     "evalue": "[Errno 2] No such file or directory: 'Lab5Data.csv'",
     "output_type": "error",
     "traceback": [
      "\u001b[1;31m---------------------------------------------------------------------------\u001b[0m",
      "\u001b[1;31mFileNotFoundError\u001b[0m                         Traceback (most recent call last)",
      "\u001b[1;32m<ipython-input-1-56ecdb93c01e>\u001b[0m in \u001b[0;36m<module>\u001b[1;34m\u001b[0m\n\u001b[0;32m      6\u001b[0m \u001b[1;33m\u001b[0m\u001b[0m\n\u001b[0;32m      7\u001b[0m \u001b[1;31m# data import\u001b[0m\u001b[1;33m\u001b[0m\u001b[1;33m\u001b[0m\u001b[1;33m\u001b[0m\u001b[0m\n\u001b[1;32m----> 8\u001b[1;33m \u001b[0mData\u001b[0m \u001b[1;33m=\u001b[0m \u001b[0mnp\u001b[0m\u001b[1;33m.\u001b[0m\u001b[0mloadtxt\u001b[0m\u001b[1;33m(\u001b[0m\u001b[0mopen\u001b[0m\u001b[1;33m(\u001b[0m\u001b[1;34m\"Lab5Data.csv\"\u001b[0m\u001b[1;33m,\u001b[0m \u001b[1;34m\"rb\"\u001b[0m\u001b[1;33m)\u001b[0m\u001b[1;33m,\u001b[0m \u001b[0mdelimiter\u001b[0m\u001b[1;33m=\u001b[0m\u001b[1;34m\";\"\u001b[0m\u001b[1;33m,\u001b[0m \u001b[0mskiprows\u001b[0m\u001b[1;33m=\u001b[0m\u001b[1;36m1\u001b[0m\u001b[1;33m)\u001b[0m\u001b[1;33m\u001b[0m\u001b[1;33m\u001b[0m\u001b[0m\n\u001b[0m\u001b[0;32m      9\u001b[0m \u001b[0mprint\u001b[0m \u001b[1;33m(\u001b[0m\u001b[1;34m'%%%%%%%%%%%%%%%%%%%%%%%%%%%%%%%%%%%%%%%%%%%%%%%%%%%%%%%%%%%%%%%%%%%%%%%%%%%%%%'\u001b[0m\u001b[1;33m)\u001b[0m\u001b[1;33m\u001b[0m\u001b[1;33m\u001b[0m\u001b[0m\n\u001b[0;32m     10\u001b[0m \u001b[0mprint\u001b[0m\u001b[1;33m(\u001b[0m\u001b[1;34m'Total length of Data ='\u001b[0m\u001b[1;33m,\u001b[0m \u001b[0mlen\u001b[0m\u001b[1;33m(\u001b[0m\u001b[0mData\u001b[0m\u001b[1;33m)\u001b[0m\u001b[1;33m)\u001b[0m\u001b[1;33m\u001b[0m\u001b[1;33m\u001b[0m\u001b[0m\n",
      "\u001b[1;31mFileNotFoundError\u001b[0m: [Errno 2] No such file or directory: 'Lab5Data.csv'"
     ]
    }
   ],
   "source": [
    "\n",
    "import numpy as np\n",
    "from sklearn.model_selection import train_test_split\n",
    "from sklearn import svm\n",
    "from sklearn.neural_network import MLPClassifier\n",
    "from sklearn import tree\n",
    "\n",
    "# data import\n",
    "Data = np.loadtxt(open(\"Lab4Data.csv\", \"rb\"), delimiter=\";\", skiprows=1)\n",
    "print ('%%%%%%%%%%%%%%%%%%%%%%%%%%%%%%%%%%%%%%%%%%%%%%%%%%%%%%%%%%%%%%%%%%%%%%%%%%%%%%')\n",
    "print('Total length of Data =', len(Data))\n",
    "\n",
    "Train_set, Test_set = train_test_split(Data, test_size=0.2)\n",
    "Input_train = Train_set[:, :8]     #  features of data\n",
    "Target_train = Train_set[:, 9]  # label of output\n",
    "\n",
    "Input_test = Test_set[:, :8]\n",
    "Target_test = Test_set[:, 9]\n",
    "print ('%%%%%%%%%%%%%%%%%%%%%%%%%%%%%%%%%%%%%%%%%%%%%%%%%%%%%%%%%%%%%%%%%%%%%%%%%%%%%%%%')\n",
    "print('Total length of Data =', len(Train_set))\n",
    "print('length of Data =', len(Test_set))\n",
    "\n",
    "##Case 1: support vector machine\n",
    "svc = svm.SVC(kernel='linear', C=1.0).fit(Input_train, Target_train)\n",
    "print ('%%%%%%%%%%%%%%%%%%%%%%%%%%%%%%%%%%%%%%%%%%%%%%%%%%%%%%%%%%%%%%%%%%%%%%%%%%%%%%')\n",
    "print(svc)\n",
    "\n",
    "PredictedOutcome = svc.predict(Input_test)\n",
    "Number_of_Correct_Predictions = len([k for k, m in zip(PredictedOutcome, Target_test) if k == m])\n",
    "\n",
    "print ('%%%%%%%%%%%%%%%%%%%%%%%%%%%%%%%%%%%%%%%%%%%%%%%%%%%%%%%%%%%%%%%%%%%%%%%%%%%%%%')\n",
    "print('Number of  Predictions=', Number_of_Correct_Predictions, 'Out_of=', len(PredictedOutcome),\n",
    "      'Test Data')\n",
    "print('Percentage of Accuracy  Prediction =', (Number_of_Correct_Predictions/float(len(PredictedOutcome)))*100)\n",
    "\n",
    "##Case 2:Decison Tree\n",
    "DTC = tree.DecisionTreeClassifier().fit(Input_train, Target_train)\n",
    "print ('%%%%%%%%%%%%%%%%%%%%%%%%%%%%%%%%%%%%%%%%%%%%%%%%%%%%%%%%%%%%%%%%%%%%')\n",
    "print(DTC)\n",
    "\n",
    "##Case 3: Multilayer perceptron (MLP) \n",
    "MLPC = MLPClassifier(solver='adam', alpha=1e-5,hidden_layer_sizes=(5,1), random_state=1).fit(Input_train, Target_train)\n",
    "print ('%%%%%%%%%%%%%%%%%%%%%%%%%%%%%%%%%%%%%%%%%%%%%%%%%%%%%%%%%%%%%%%%%%%%%%%%%%%%%')\n",
    "print(MLPC)\n",
    "\n",
    "PredictedOutcome = MLPC.predict(Input_test)\n",
    "Number_of_Correct_Predictions = len([j for j, n in zip(PredictedOutcome, Target_test) if j == n])\n",
    "print ('%%%%%%%%%%%%%%%%%%%%%%%%%%%%%%%%%%%%%%%%%%%%%%%%%%%%%%%%%%%%%%%%%%%%%%%')\n",
    "print('Number of Correct Predictions:', Number_of_Correct_Predictions, 'Out_of:', len(PredictedOutcome),\n",
    "      'Test Data')\n",
    "print('Percentage of Accuracy Prediction =', (Number_of_Correct_Predictions/float(len(PredictedOutcome)))*100)\n",
    "\n",
    "PredictedOutcome = DTC.predict(Input_test)\n",
    "Number_of_Correct_Predictions = len([j for j, n in zip(PredictedOutcome, Target_test) if j == n])\n",
    "print ('%%%%%%%%%%%%%%%%%%%%%%%%%%%%%%%%%%%%%%%%%%%%%%%%%%%%%%%%%%%%%%%%%%%%%%%%%%%%%%%')\n",
    "print('Number of Correct Predictions:', Number_of_Correct_Predictions, 'Out_of:', len(PredictedOutcome),\n",
    "      ' Test Data')\n",
    "print('Percentage of Accuracy Prediction :', (Number_of_Correct_Predictions/float(len(PredictedOutcome)))*100)\n",
    "\n",
    "\n"
   ]
  },
  {
   "cell_type": "code",
   "execution_count": null,
   "metadata": {},
   "outputs": [],
   "source": []
  }
 ],
 "metadata": {
  "kernelspec": {
   "display_name": "Python 3",
   "language": "python",
   "name": "python3"
  },
  "language_info": {
   "codemirror_mode": {
    "name": "ipython",
    "version": 3
   },
   "file_extension": ".py",
   "mimetype": "text/x-python",
   "name": "python",
   "nbconvert_exporter": "python",
   "pygments_lexer": "ipython3",
   "version": "3.7.4"
  }
 },
 "nbformat": 4,
 "nbformat_minor": 2
}
