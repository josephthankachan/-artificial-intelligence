{
 "cells": [
  {
   "cell_type": "code",
   "execution_count": 2,
   "metadata": {},
   "outputs": [
    {
     "name": "stdout",
     "output_type": "stream",
     "text": [
      "%%%%%%%%%%%%%%%%%%%%%%%%%%%%%%%%%%%%%%%%%%%%%%%%%%%%%%%%%%%%%%%\n",
      "Total Data Length= 2000\n",
      "%%%%%%%%%%%%%%%%%%%%%%%%%%%%%%%%%%%%%%%%%%%%%%%%%%%%%%%%%%%%%%%%%%%%%%\n",
      " Train Data Length= 1600\n",
      " Test Data Length = 400\n",
      "%%%%%%%%%%%%%%%%%%%%%%%%%%%%%%%%%%%%%%%%%%%%%%%%%%%%%%%%%%%%%%%%%%%%%%%%%%%\n",
      "KNeighborsClassifier(algorithm='auto', leaf_size=30, metric='minkowski',\n",
      "                     metric_params=None, n_jobs=None, n_neighbors=19, p=1,\n",
      "                     weights='uniform')\n",
      "Accuracy of Prediction in Percent= [80.81632088822694, 79.57172121166718, 81.06827146259175, 81.57103786935902, 80.81591287931047, 80.94720762678129, 81.38043255744265, 81.82031574117067, 81.69217578465535, 81.75192890990104, 81.99997805739049, 80.87963155948043, 80.62686017699467, 80.87727288348387, 80.93739946576235, 80.556522678645, 79.62014314245859, 79.55725991941932, 79.62289987593462]\n",
      "manhattan Highest Accuracy  =  81.99997805739049\n",
      "%%%%%%%%%%%%%%%%%%%%%%%%%%%%%%%%%%%%%%%%%%%%%%%%%%%%%%%%%%%%%%%%%%%%%%%%%%%%%%\n",
      "KNeighborsClassifier(algorithm='auto', leaf_size=30, metric='minkowski',\n",
      "                     metric_params=None, n_jobs=None, n_neighbors=19, p=2,\n",
      "                     weights='uniform')\n",
      "persentge of Accuracy Prediction = [80.62490462691136, 79.13028034990488, 80.13897283739823, 80.44560074785359, 79.94599410776036, 80.13350875677006, 80.9425050165132, 80.43974358546443, 80.62724837575243, 80.12644258750218, 80.31120557146961, 79.63034917552655, 79.44322760827782, 78.94477552030563, 78.31934318908817, 78.25372304273161, 77.56578573579566, 77.81734820411795, 77.56576104263368]\n",
      "euclidean Highest Accuracy =  80.9425050165132\n"
     ]
    }
   ],
   "source": [
    "\n",
    "import numpy as np\n",
    "from sklearn.model_selection import train_test_split\n",
    "from sklearn.neighbors import KNeighborsClassifier\n",
    "from sklearn.model_selection import cross_val_score\n",
    "\n",
    "# import data\n",
    "Data = np.loadtxt(open(\"Lab4Data.csv\", \"rb\"), delimiter=\";\", skiprows=1)\n",
    "print('Total Data Length=', len(Data))\n",
    "\n",
    "Train_set, Test_set = train_test_split(Data, test_size=0.2)\n",
    "Input_train = Train_set[:, :8]     # input features\n",
    "Target_train = Train_set[:, 9]  # output labels\n",
    "\n",
    "Input_test = Test_set[:, :8]\n",
    "Target_test = Test_set[:, 9]\n",
    "\n",
    "print ('%%%%%%%%%%%%%%%%%%%%%%%%%%%%%%%%%%%%%%%%%%%%%%%%%%%%%%%%%%%%%%%%%%%%%%')\n",
    "print(' Train Data Length=', len(Train_set))\n",
    "print(' Test Data Length =', len(Test_set))\n",
    "\n",
    "cv_1 = []\n",
    "cv_2 = []\n",
    "for i in range(1,2):\n",
    "    for j in range(1,20):\n",
    "        KNNC = KNeighborsClassifier(n_neighbors=j, p=i)\n",
    "        Scores = cross_val_score(KNNC, Input_train, Target_train , scoring='accuracy', cv=10)\n",
    "        cv_1.append (Scores.mean()*100)\n",
    "\n",
    "print ('%%%%%%%%%%%%%%%%%%%%%%%%%%%%%%%%%%%%%%%%%%%%%%%%%%%%%%%%%%%%%%%%%%%%%%%%%%%')\n",
    "print(KNNC)\n",
    "print('Accuracy of Prediction in Percent=',cv_1 )\n",
    "print(\"manhattan Highest Accuracy  = \", max(cv_1))\n",
    "\n",
    "for i in range(2,3):\n",
    "    for j in range(1,20):\n",
    "        KNNC = KNeighborsClassifier(n_neighbors=j, p=i)\n",
    "        Scores = cross_val_score(KNNC, Input_train, Target_train , scoring='accuracy', cv=10)\n",
    "        cv_2.append (Scores.mean()*100)\n",
    "\n",
    "print ('%%%%%%%%%%%%%%%%%%%%%%%%%%%%%%%%%%%%%%%%%%%%%%%%%%%%%%%%%%%%%%%%%%%%%%%%%%%%%%')\n",
    "print(KNNC)\n",
    "print('persentge of Accuracy Prediction =',cv_2 )\n",
    "print(\"euclidean Highest Accuracy = \", max(cv_2))\n",
    "\n",
    "\n",
    "\n"
   ]
  },
  {
   "cell_type": "code",
   "execution_count": null,
   "metadata": {},
   "outputs": [],
   "source": []
  }
 ],
 "metadata": {
  "kernelspec": {
   "display_name": "Python 3",
   "language": "python",
   "name": "python3"
  },
  "language_info": {
   "codemirror_mode": {
    "name": "ipython",
    "version": 3
   },
   "file_extension": ".py",
   "mimetype": "text/x-python",
   "name": "python",
   "nbconvert_exporter": "python",
   "pygments_lexer": "ipython3",
   "version": "3.7.4"
  }
 },
 "nbformat": 4,
 "nbformat_minor": 2
}
