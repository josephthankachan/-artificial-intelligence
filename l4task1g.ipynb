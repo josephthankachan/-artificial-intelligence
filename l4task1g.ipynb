{
 "cells": [
  {
   "cell_type": "code",
   "execution_count": null,
   "metadata": {},
   "outputs": [],
   "source": [
    "\n",
    "import numpy as np\n",
    "from sklearn.model_selection import train_test_split\n",
    "from sklearn.neighbors import KNeighborsRegressor\n",
    "from sklearn.model_selection import cross_val_score\n",
    "\n",
    "# import data\n",
    "Data = np.loadtxt(open(\"Lab4Data.csv\", \"rb\"), delimiter=\";\", skiprows=1)\n",
    "print('Total Data length =', len(Data))\n",
    "\n",
    "Train_set, Test_set = train_test_split(Data, test_size=0.2)\n",
    "Input_train = Train_set[:, :8]     # input features\n",
    "Target_train = Train_set[:, 9]  # output labels\n",
    "\n",
    "Input_test = Test_set[:, :8]\n",
    "Target_test = Test_set[:, 9]\n",
    "print ('%%%%%%%%%%%%%%%%%%%%%%%%%%%%%%%%%%%%%%%%%%%%%%%%%%%%%%%%%%%%%%%%')\n",
    "print('Train Data length =', len(Train_set))\n",
    "print('Test Data length =', len(Test_set))\n",
    "\n",
    "cv_1 = []\n",
    "cv_2 = []\n",
    "for j in range(1,2):\n",
    "    for k in range(1,20):\n",
    "        KNNC = KNeighborsRegressor(n_neighbors=k, p=j)\n",
    "        Scores = cross_val_score(KNNC, Input_train, Target_train , scoring='neg_mean_squared_error', cv=10)\n",
    "        cv_1.append (Scores.mean())\n",
    "print ('%%%%%%%%%%%%%%%%%%%%%%%%%%%%%%%%%%%%%%%%%%%%%%%%%%%%%%%%%%%%%%%%%%%%%%%%%%%%%%%%%%%')\n",
    "print(KNNC)\n",
    "print('percentage of Accuracy Prediction =',cv_1 )\n",
    "print(\"manhattan Highest Accuracy   = \", max(cv_1))\n",
    "\n",
    "for j in range(2,3):\n",
    "    for k in range(1,20):\n",
    "        KNNC = KNeighborsRegressor(n_neighbors=k, p=j)\n",
    "        Scores = cross_val_score(KNNC, Input_train, Target_train , scoring='neg_mean_squared_error', cv=10)\n",
    "        cv_2.append (Scores.mean())\n",
    "print ('%%%%%%%%%%%%%%%%%%%%%%%%%%%%%%%%%%%%%%%%%%%%%%%%%%%%%%%%%%%%%%%%%%%%%%%%%%%%%%%%')\n",
    "print(KNNC)\n",
    "print('percentage of Accuracy Prediction =',cv_2 )\n",
    "\n",
    "print(\"euclidean Highest Accuracy = \", max(cv_2))\n",
    "\n"
   ]
  }
 ],
 "metadata": {
  "kernelspec": {
   "display_name": "Python 3",
   "language": "python",
   "name": "python3"
  },
  "language_info": {
   "codemirror_mode": {
    "name": "ipython",
    "version": 3
   },
   "file_extension": ".py",
   "mimetype": "text/x-python",
   "name": "python",
   "nbconvert_exporter": "python",
   "pygments_lexer": "ipython3",
   "version": "3.7.4"
  }
 },
 "nbformat": 4,
 "nbformat_minor": 2
}
